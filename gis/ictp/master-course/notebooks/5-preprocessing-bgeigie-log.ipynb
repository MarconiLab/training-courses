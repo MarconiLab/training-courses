{
 "cells": [
  {
   "cell_type": "code",
   "execution_count": 1,
   "metadata": {
    "collapsed": true
   },
   "outputs": [],
   "source": [
    "# This ensures visualizations are plotted inside the notebook\n",
    "#%matplotlib inline\n",
    "\n",
    "import os              # This provides several system utilities\n",
    "import pandas as pd    # This is the workhorse of data munging in Python\n",
    "import matplotlib.pyplot as plt\n",
    "import seaborn as sns  # This allows us to easily and beautifully plot"
   ]
  },
  {
   "cell_type": "code",
   "execution_count": 79,
   "metadata": {
    "collapsed": false
   },
   "outputs": [],
   "source": [
    "f = 'data/29240311.log'    # Path to file containing the table\n",
    "df = pd.read_csv(f, header=None, skiprows=[0, 1, 2])"
   ]
  },
  {
   "cell_type": "code",
   "execution_count": 80,
   "metadata": {
    "collapsed": false
   },
   "outputs": [
    {
     "data": {
      "text/html": [
       "<div>\n",
       "<table border=\"1\" class=\"dataframe\">\n",
       "  <thead>\n",
       "    <tr style=\"text-align: right;\">\n",
       "      <th></th>\n",
       "      <th>0</th>\n",
       "      <th>1</th>\n",
       "      <th>2</th>\n",
       "      <th>3</th>\n",
       "      <th>4</th>\n",
       "      <th>5</th>\n",
       "      <th>6</th>\n",
       "      <th>7</th>\n",
       "      <th>8</th>\n",
       "      <th>9</th>\n",
       "      <th>10</th>\n",
       "      <th>11</th>\n",
       "      <th>12</th>\n",
       "      <th>13</th>\n",
       "      <th>14</th>\n",
       "    </tr>\n",
       "  </thead>\n",
       "  <tbody>\n",
       "    <tr>\n",
       "      <th>0</th>\n",
       "      <td>$BNRDD</td>\n",
       "      <td>2924</td>\n",
       "      <td>2017-03-11T13:20:01Z</td>\n",
       "      <td>24</td>\n",
       "      <td>5</td>\n",
       "      <td>24</td>\n",
       "      <td>V</td>\n",
       "      <td>4542.4271</td>\n",
       "      <td>N</td>\n",
       "      <td>1342.8265</td>\n",
       "      <td>E</td>\n",
       "      <td>9.3</td>\n",
       "      <td>A</td>\n",
       "      <td>9</td>\n",
       "      <td>98*64</td>\n",
       "    </tr>\n",
       "    <tr>\n",
       "      <th>1</th>\n",
       "      <td>$BNRDD</td>\n",
       "      <td>2924</td>\n",
       "      <td>2017-03-11T13:20:06Z</td>\n",
       "      <td>24</td>\n",
       "      <td>0</td>\n",
       "      <td>24</td>\n",
       "      <td>V</td>\n",
       "      <td>4542.4270</td>\n",
       "      <td>N</td>\n",
       "      <td>1342.8263</td>\n",
       "      <td>E</td>\n",
       "      <td>9.4</td>\n",
       "      <td>A</td>\n",
       "      <td>9</td>\n",
       "      <td>95*6B</td>\n",
       "    </tr>\n",
       "    <tr>\n",
       "      <th>2</th>\n",
       "      <td>$BNRDD</td>\n",
       "      <td>2924</td>\n",
       "      <td>2017-03-11T13:20:11Z</td>\n",
       "      <td>26</td>\n",
       "      <td>2</td>\n",
       "      <td>26</td>\n",
       "      <td>V</td>\n",
       "      <td>4542.4270</td>\n",
       "      <td>N</td>\n",
       "      <td>1342.8270</td>\n",
       "      <td>E</td>\n",
       "      <td>9.5</td>\n",
       "      <td>A</td>\n",
       "      <td>9</td>\n",
       "      <td>95*6C</td>\n",
       "    </tr>\n",
       "    <tr>\n",
       "      <th>3</th>\n",
       "      <td>$BNRDD</td>\n",
       "      <td>2924</td>\n",
       "      <td>2017-03-11T13:20:16Z</td>\n",
       "      <td>29</td>\n",
       "      <td>3</td>\n",
       "      <td>29</td>\n",
       "      <td>V</td>\n",
       "      <td>4542.4271</td>\n",
       "      <td>N</td>\n",
       "      <td>1342.8273</td>\n",
       "      <td>E</td>\n",
       "      <td>8.8</td>\n",
       "      <td>A</td>\n",
       "      <td>9</td>\n",
       "      <td>95*64</td>\n",
       "    </tr>\n",
       "    <tr>\n",
       "      <th>4</th>\n",
       "      <td>$BNRDD</td>\n",
       "      <td>2924</td>\n",
       "      <td>2017-03-11T13:20:21Z</td>\n",
       "      <td>31</td>\n",
       "      <td>2</td>\n",
       "      <td>31</td>\n",
       "      <td>V</td>\n",
       "      <td>4542.4273</td>\n",
       "      <td>N</td>\n",
       "      <td>1342.8272</td>\n",
       "      <td>E</td>\n",
       "      <td>8.7</td>\n",
       "      <td>A</td>\n",
       "      <td>9</td>\n",
       "      <td>95*6D</td>\n",
       "    </tr>\n",
       "  </tbody>\n",
       "</table>\n",
       "</div>"
      ],
      "text/plain": [
       "       0     1                     2   3   4   5  6          7  8          9   \\\n",
       "0  $BNRDD  2924  2017-03-11T13:20:01Z  24   5  24  V  4542.4271  N  1342.8265   \n",
       "1  $BNRDD  2924  2017-03-11T13:20:06Z  24   0  24  V  4542.4270  N  1342.8263   \n",
       "2  $BNRDD  2924  2017-03-11T13:20:11Z  26   2  26  V  4542.4270  N  1342.8270   \n",
       "3  $BNRDD  2924  2017-03-11T13:20:16Z  29   3  29  V  4542.4271  N  1342.8273   \n",
       "4  $BNRDD  2924  2017-03-11T13:20:21Z  31   2  31  V  4542.4273  N  1342.8272   \n",
       "\n",
       "  10   11 12  13     14  \n",
       "0  E  9.3  A   9  98*64  \n",
       "1  E  9.4  A   9  95*6B  \n",
       "2  E  9.5  A   9  95*6C  \n",
       "3  E  8.8  A   9  95*64  \n",
       "4  E  8.7  A   9  95*6D  "
      ]
     },
     "execution_count": 80,
     "metadata": {},
     "output_type": "execute_result"
    }
   ],
   "source": [
    "df.head()"
   ]
  },
  {
   "cell_type": "code",
   "execution_count": 81,
   "metadata": {
    "collapsed": false
   },
   "outputs": [],
   "source": [
    "df = df[[2, 3, 7, 9]]"
   ]
  },
  {
   "cell_type": "code",
   "execution_count": 82,
   "metadata": {
    "collapsed": false
   },
   "outputs": [],
   "source": [
    "df.columns = ['time', 'cpm', 'lat', 'lon']"
   ]
  },
  {
   "cell_type": "code",
   "execution_count": 83,
   "metadata": {
    "collapsed": false
   },
   "outputs": [
    {
     "data": {
      "text/html": [
       "<div>\n",
       "<table border=\"1\" class=\"dataframe\">\n",
       "  <thead>\n",
       "    <tr style=\"text-align: right;\">\n",
       "      <th></th>\n",
       "      <th>time</th>\n",
       "      <th>cpm</th>\n",
       "      <th>lat</th>\n",
       "      <th>lon</th>\n",
       "    </tr>\n",
       "  </thead>\n",
       "  <tbody>\n",
       "    <tr>\n",
       "      <th>0</th>\n",
       "      <td>2017-03-11T13:20:01Z</td>\n",
       "      <td>24</td>\n",
       "      <td>4542.4271</td>\n",
       "      <td>1342.8265</td>\n",
       "    </tr>\n",
       "    <tr>\n",
       "      <th>1</th>\n",
       "      <td>2017-03-11T13:20:06Z</td>\n",
       "      <td>24</td>\n",
       "      <td>4542.4270</td>\n",
       "      <td>1342.8263</td>\n",
       "    </tr>\n",
       "    <tr>\n",
       "      <th>2</th>\n",
       "      <td>2017-03-11T13:20:11Z</td>\n",
       "      <td>26</td>\n",
       "      <td>4542.4270</td>\n",
       "      <td>1342.8270</td>\n",
       "    </tr>\n",
       "    <tr>\n",
       "      <th>3</th>\n",
       "      <td>2017-03-11T13:20:16Z</td>\n",
       "      <td>29</td>\n",
       "      <td>4542.4271</td>\n",
       "      <td>1342.8273</td>\n",
       "    </tr>\n",
       "    <tr>\n",
       "      <th>4</th>\n",
       "      <td>2017-03-11T13:20:21Z</td>\n",
       "      <td>31</td>\n",
       "      <td>4542.4273</td>\n",
       "      <td>1342.8272</td>\n",
       "    </tr>\n",
       "  </tbody>\n",
       "</table>\n",
       "</div>"
      ],
      "text/plain": [
       "                   time  cpm        lat        lon\n",
       "0  2017-03-11T13:20:01Z   24  4542.4271  1342.8265\n",
       "1  2017-03-11T13:20:06Z   24  4542.4270  1342.8263\n",
       "2  2017-03-11T13:20:11Z   26  4542.4270  1342.8270\n",
       "3  2017-03-11T13:20:16Z   29  4542.4271  1342.8273\n",
       "4  2017-03-11T13:20:21Z   31  4542.4273  1342.8272"
      ]
     },
     "execution_count": 83,
     "metadata": {},
     "output_type": "execute_result"
    }
   ],
   "source": [
    "df.head()"
   ]
  },
  {
   "cell_type": "code",
   "execution_count": 84,
   "metadata": {
    "collapsed": false
   },
   "outputs": [],
   "source": [
    "# http://www.directionsmag.com/site/latlong-converter/\n",
    "def to_decimal_degree(coord):\n",
    "    degree = int(coord/100)\n",
    "    decimal_min = coord - degree*100\n",
    "    return degree + decimal_min/60"
   ]
  },
  {
   "cell_type": "code",
   "execution_count": 85,
   "metadata": {
    "collapsed": false
   },
   "outputs": [],
   "source": [
    "df.lat = df.apply(lambda z: to_decimal_degree(z.lat), axis=1)\n",
    "df.lon = df.apply(lambda z: to_decimal_degree(z.lon), axis=1)"
   ]
  },
  {
   "cell_type": "code",
   "execution_count": 86,
   "metadata": {
    "collapsed": false
   },
   "outputs": [
    {
     "data": {
      "text/html": [
       "<div>\n",
       "<table border=\"1\" class=\"dataframe\">\n",
       "  <thead>\n",
       "    <tr style=\"text-align: right;\">\n",
       "      <th></th>\n",
       "      <th>time</th>\n",
       "      <th>cpm</th>\n",
       "      <th>lat</th>\n",
       "      <th>lon</th>\n",
       "    </tr>\n",
       "  </thead>\n",
       "  <tbody>\n",
       "    <tr>\n",
       "      <th>0</th>\n",
       "      <td>2017-03-11T13:20:01Z</td>\n",
       "      <td>24</td>\n",
       "      <td>45.707118</td>\n",
       "      <td>13.713775</td>\n",
       "    </tr>\n",
       "    <tr>\n",
       "      <th>1</th>\n",
       "      <td>2017-03-11T13:20:06Z</td>\n",
       "      <td>24</td>\n",
       "      <td>45.707117</td>\n",
       "      <td>13.713772</td>\n",
       "    </tr>\n",
       "    <tr>\n",
       "      <th>2</th>\n",
       "      <td>2017-03-11T13:20:11Z</td>\n",
       "      <td>26</td>\n",
       "      <td>45.707117</td>\n",
       "      <td>13.713783</td>\n",
       "    </tr>\n",
       "    <tr>\n",
       "      <th>3</th>\n",
       "      <td>2017-03-11T13:20:16Z</td>\n",
       "      <td>29</td>\n",
       "      <td>45.707118</td>\n",
       "      <td>13.713788</td>\n",
       "    </tr>\n",
       "    <tr>\n",
       "      <th>4</th>\n",
       "      <td>2017-03-11T13:20:21Z</td>\n",
       "      <td>31</td>\n",
       "      <td>45.707122</td>\n",
       "      <td>13.713787</td>\n",
       "    </tr>\n",
       "  </tbody>\n",
       "</table>\n",
       "</div>"
      ],
      "text/plain": [
       "                   time  cpm        lat        lon\n",
       "0  2017-03-11T13:20:01Z   24  45.707118  13.713775\n",
       "1  2017-03-11T13:20:06Z   24  45.707117  13.713772\n",
       "2  2017-03-11T13:20:11Z   26  45.707117  13.713783\n",
       "3  2017-03-11T13:20:16Z   29  45.707118  13.713788\n",
       "4  2017-03-11T13:20:21Z   31  45.707122  13.713787"
      ]
     },
     "execution_count": 86,
     "metadata": {},
     "output_type": "execute_result"
    }
   ],
   "source": [
    "df.head()"
   ]
  },
  {
   "cell_type": "code",
   "execution_count": 88,
   "metadata": {
    "collapsed": true
   },
   "outputs": [],
   "source": [
    "df.to_csv('data/log_cleaned.csv', index=False)"
   ]
  },
  {
   "cell_type": "code",
   "execution_count": null,
   "metadata": {
    "collapsed": true
   },
   "outputs": [],
   "source": []
  }
 ],
 "metadata": {
  "anaconda-cloud": {},
  "kernelspec": {
   "display_name": "Python [conda env:ictp1]",
   "language": "python",
   "name": "conda-env-ictp1-py"
  },
  "language_info": {
   "codemirror_mode": {
    "name": "ipython",
    "version": 2
   },
   "file_extension": ".py",
   "mimetype": "text/x-python",
   "name": "python",
   "nbconvert_exporter": "python",
   "pygments_lexer": "ipython2",
   "version": "2.7.13"
  }
 },
 "nbformat": 4,
 "nbformat_minor": 2
}

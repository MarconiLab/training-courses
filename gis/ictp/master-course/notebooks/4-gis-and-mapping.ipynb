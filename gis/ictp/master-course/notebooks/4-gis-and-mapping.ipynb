{
 "cells": [
  {
   "cell_type": "markdown",
   "metadata": {},
   "source": [
    "### ICTP-IAEA WORKSHOOP ON ENVIRONMENTAL MAPPING: Mobilising\tTrust\tin Measurements\tand\tEngaging Scientific Citizenry, Trieste, March 2017\n",
    "---"
   ]
  },
  {
   "cell_type": "markdown",
   "metadata": {},
   "source": [
    "# IV. Using Python as a GIS"
   ]
  },
  {
   "cell_type": "code",
   "execution_count": 148,
   "metadata": {
    "collapsed": false
   },
   "outputs": [],
   "source": [
    "%matplotlib inline\n",
    "\n",
    "import numpy as np\n",
    "import matplotlib.pyplot as plt\n",
    "import pandas as pd\n",
    "import geopandas as gpd\n",
    "from shapely.geometry import Point\n",
    "#import pysal as ps\n",
    "#from pysal.contrib.viz import mapping as maps\n",
    "#import palettable as pltt\n",
    "#from seaborn import palplot"
   ]
  },
  {
   "cell_type": "markdown",
   "metadata": {},
   "source": [
    "## Loading a shapefile"
   ]
  },
  {
   "cell_type": "code",
   "execution_count": 3,
   "metadata": {
    "collapsed": false
   },
   "outputs": [],
   "source": [
    "path = 'data/shp/JPN_adm2.shp'\n",
    "jpn_muni = gpd.read_file(path)"
   ]
  },
  {
   "cell_type": "code",
   "execution_count": 4,
   "metadata": {
    "collapsed": false
   },
   "outputs": [
    {
     "data": {
      "text/html": [
       "<div>\n",
       "<table border=\"1\" class=\"dataframe\">\n",
       "  <thead>\n",
       "    <tr style=\"text-align: right;\">\n",
       "      <th></th>\n",
       "      <th>CCA_2</th>\n",
       "      <th>CCN_2</th>\n",
       "      <th>ENGTYPE_2</th>\n",
       "      <th>HASC_2</th>\n",
       "      <th>ID_0</th>\n",
       "      <th>ID_1</th>\n",
       "      <th>ID_2</th>\n",
       "      <th>ISO</th>\n",
       "      <th>NAME_0</th>\n",
       "      <th>NAME_1</th>\n",
       "      <th>NAME_2</th>\n",
       "      <th>NL_NAME_2</th>\n",
       "      <th>TYPE_2</th>\n",
       "      <th>VARNAME_2</th>\n",
       "      <th>geometry</th>\n",
       "    </tr>\n",
       "  </thead>\n",
       "  <tbody>\n",
       "    <tr>\n",
       "      <th>0</th>\n",
       "      <td>None</td>\n",
       "      <td>0</td>\n",
       "      <td>Town</td>\n",
       "      <td>None</td>\n",
       "      <td>114</td>\n",
       "      <td>1</td>\n",
       "      <td>1</td>\n",
       "      <td>JPN</td>\n",
       "      <td>Japan</td>\n",
       "      <td>Aichi</td>\n",
       "      <td>Agui</td>\n",
       "      <td>阿久比町</td>\n",
       "      <td>Machi</td>\n",
       "      <td>None</td>\n",
       "      <td>POLYGON ((136.8802795410159 34.91983413696295,...</td>\n",
       "    </tr>\n",
       "    <tr>\n",
       "      <th>1</th>\n",
       "      <td>None</td>\n",
       "      <td>0</td>\n",
       "      <td>City</td>\n",
       "      <td>None</td>\n",
       "      <td>114</td>\n",
       "      <td>1</td>\n",
       "      <td>2</td>\n",
       "      <td>JPN</td>\n",
       "      <td>Japan</td>\n",
       "      <td>Aichi</td>\n",
       "      <td>Aisai</td>\n",
       "      <td>愛西市</td>\n",
       "      <td>Shi</td>\n",
       "      <td>None</td>\n",
       "      <td>POLYGON ((136.7043914794922 35.11997222900396,...</td>\n",
       "    </tr>\n",
       "    <tr>\n",
       "      <th>2</th>\n",
       "      <td>None</td>\n",
       "      <td>0</td>\n",
       "      <td>City</td>\n",
       "      <td>None</td>\n",
       "      <td>114</td>\n",
       "      <td>1</td>\n",
       "      <td>3</td>\n",
       "      <td>JPN</td>\n",
       "      <td>Japan</td>\n",
       "      <td>Aichi</td>\n",
       "      <td>Anjō</td>\n",
       "      <td>安城市</td>\n",
       "      <td>Shi</td>\n",
       "      <td>None</td>\n",
       "      <td>POLYGON ((137.1106567382812 34.89692687988276,...</td>\n",
       "    </tr>\n",
       "    <tr>\n",
       "      <th>3</th>\n",
       "      <td>None</td>\n",
       "      <td>0</td>\n",
       "      <td>City</td>\n",
       "      <td>None</td>\n",
       "      <td>114</td>\n",
       "      <td>1</td>\n",
       "      <td>4</td>\n",
       "      <td>JPN</td>\n",
       "      <td>Japan</td>\n",
       "      <td>Aichi</td>\n",
       "      <td>Ōbu</td>\n",
       "      <td>大府市</td>\n",
       "      <td>Shi</td>\n",
       "      <td>None</td>\n",
       "      <td>POLYGON ((136.9826965332031 34.99448013305675,...</td>\n",
       "    </tr>\n",
       "    <tr>\n",
       "      <th>4</th>\n",
       "      <td>None</td>\n",
       "      <td>0</td>\n",
       "      <td>Town</td>\n",
       "      <td>None</td>\n",
       "      <td>114</td>\n",
       "      <td>1</td>\n",
       "      <td>5</td>\n",
       "      <td>JPN</td>\n",
       "      <td>Japan</td>\n",
       "      <td>Aichi</td>\n",
       "      <td>Ōguchi</td>\n",
       "      <td>大口町</td>\n",
       "      <td>Machi</td>\n",
       "      <td>None</td>\n",
       "      <td>POLYGON ((136.9320678710938 35.31656265258795,...</td>\n",
       "    </tr>\n",
       "  </tbody>\n",
       "</table>\n",
       "</div>"
      ],
      "text/plain": [
       "  CCA_2  CCN_2 ENGTYPE_2 HASC_2  ID_0  ID_1  ID_2  ISO NAME_0 NAME_1  NAME_2  \\\n",
       "0  None      0      Town   None   114     1     1  JPN  Japan  Aichi    Agui   \n",
       "1  None      0      City   None   114     1     2  JPN  Japan  Aichi   Aisai   \n",
       "2  None      0      City   None   114     1     3  JPN  Japan  Aichi    Anjō   \n",
       "3  None      0      City   None   114     1     4  JPN  Japan  Aichi     Ōbu   \n",
       "4  None      0      Town   None   114     1     5  JPN  Japan  Aichi  Ōguchi   \n",
       "\n",
       "  NL_NAME_2 TYPE_2 VARNAME_2  \\\n",
       "0      阿久比町  Machi      None   \n",
       "1       愛西市    Shi      None   \n",
       "2       安城市    Shi      None   \n",
       "3       大府市    Shi      None   \n",
       "4       大口町  Machi      None   \n",
       "\n",
       "                                            geometry  \n",
       "0  POLYGON ((136.8802795410159 34.91983413696295,...  \n",
       "1  POLYGON ((136.7043914794922 35.11997222900396,...  \n",
       "2  POLYGON ((137.1106567382812 34.89692687988276,...  \n",
       "3  POLYGON ((136.9826965332031 34.99448013305675,...  \n",
       "4  POLYGON ((136.9320678710938 35.31656265258795,...  "
      ]
     },
     "execution_count": 4,
     "metadata": {},
     "output_type": "execute_result"
    }
   ],
   "source": [
    "jpn_muni.head()"
   ]
  },
  {
   "cell_type": "code",
   "execution_count": 5,
   "metadata": {
    "collapsed": false
   },
   "outputs": [
    {
     "data": {
      "text/plain": [
       "geopandas.geodataframe.GeoDataFrame"
      ]
     },
     "execution_count": 5,
     "metadata": {},
     "output_type": "execute_result"
    }
   ],
   "source": [
    "type(jpn_muni)"
   ]
  },
  {
   "cell_type": "code",
   "execution_count": 6,
   "metadata": {
    "collapsed": false
   },
   "outputs": [],
   "source": [
    "jpn_muni = jpn_muni[['NAME_1', 'NAME_2', 'geometry']]"
   ]
  },
  {
   "cell_type": "code",
   "execution_count": 7,
   "metadata": {
    "collapsed": false
   },
   "outputs": [],
   "source": [
    "jpn_muni.columns = ['prefecture', 'municipality', 'geometry']"
   ]
  },
  {
   "cell_type": "code",
   "execution_count": 8,
   "metadata": {
    "collapsed": false
   },
   "outputs": [
    {
     "data": {
      "text/html": [
       "<div>\n",
       "<table border=\"1\" class=\"dataframe\">\n",
       "  <thead>\n",
       "    <tr style=\"text-align: right;\">\n",
       "      <th></th>\n",
       "      <th>prefecture</th>\n",
       "      <th>municipality</th>\n",
       "      <th>geometry</th>\n",
       "    </tr>\n",
       "  </thead>\n",
       "  <tbody>\n",
       "    <tr>\n",
       "      <th>0</th>\n",
       "      <td>Aichi</td>\n",
       "      <td>Agui</td>\n",
       "      <td>POLYGON ((136.8802795410159 34.91983413696295,...</td>\n",
       "    </tr>\n",
       "    <tr>\n",
       "      <th>1</th>\n",
       "      <td>Aichi</td>\n",
       "      <td>Aisai</td>\n",
       "      <td>POLYGON ((136.7043914794922 35.11997222900396,...</td>\n",
       "    </tr>\n",
       "    <tr>\n",
       "      <th>2</th>\n",
       "      <td>Aichi</td>\n",
       "      <td>Anjō</td>\n",
       "      <td>POLYGON ((137.1106567382812 34.89692687988276,...</td>\n",
       "    </tr>\n",
       "    <tr>\n",
       "      <th>3</th>\n",
       "      <td>Aichi</td>\n",
       "      <td>Ōbu</td>\n",
       "      <td>POLYGON ((136.9826965332031 34.99448013305675,...</td>\n",
       "    </tr>\n",
       "    <tr>\n",
       "      <th>4</th>\n",
       "      <td>Aichi</td>\n",
       "      <td>Ōguchi</td>\n",
       "      <td>POLYGON ((136.9320678710938 35.31656265258795,...</td>\n",
       "    </tr>\n",
       "  </tbody>\n",
       "</table>\n",
       "</div>"
      ],
      "text/plain": [
       "  prefecture municipality                                           geometry\n",
       "0      Aichi         Agui  POLYGON ((136.8802795410159 34.91983413696295,...\n",
       "1      Aichi        Aisai  POLYGON ((136.7043914794922 35.11997222900396,...\n",
       "2      Aichi         Anjō  POLYGON ((137.1106567382812 34.89692687988276,...\n",
       "3      Aichi          Ōbu  POLYGON ((136.9826965332031 34.99448013305675,...\n",
       "4      Aichi       Ōguchi  POLYGON ((136.9320678710938 35.31656265258795,..."
      ]
     },
     "execution_count": 8,
     "metadata": {},
     "output_type": "execute_result"
    }
   ],
   "source": [
    "jpn_muni.head()"
   ]
  },
  {
   "cell_type": "code",
   "execution_count": 9,
   "metadata": {
    "collapsed": false
   },
   "outputs": [
    {
     "data": {
      "text/plain": [
       "(1811, 3)"
      ]
     },
     "execution_count": 9,
     "metadata": {},
     "output_type": "execute_result"
    }
   ],
   "source": [
    "jpn_muni.shape"
   ]
  },
  {
   "cell_type": "code",
   "execution_count": 10,
   "metadata": {
    "collapsed": false
   },
   "outputs": [],
   "source": [
    "# Selecting only Fukushima municipalities\n",
    "fuku_pref = jpn_muni[jpn_muni['prefecture'] == 'Fukushima']"
   ]
  },
  {
   "cell_type": "code",
   "execution_count": 30,
   "metadata": {
    "collapsed": false
   },
   "outputs": [
    {
     "data": {
      "text/plain": [
       "<matplotlib.axes._subplots.AxesSubplot at 0x10bb38210>"
      ]
     },
     "execution_count": 30,
     "metadata": {},
     "output_type": "execute_result"
    },
    {
     "data": {
      "image/png": "[encoded data removed]",
      "text/plain": [
       "<matplotlib.figure.Figure at 0x10c4cc110>"
      ]
     },
     "metadata": {},
     "output_type": "display_data"
    }
   ],
   "source": [
    "# Simple plot\n",
    "plt.rcParams[\"figure.figsize\"] = [10, 10]\n",
    "fuku_pref.plot(facecolor='steelblue', edgecolor='white')"
   ]
  },
  {
   "cell_type": "code",
   "execution_count": 31,
   "metadata": {
    "collapsed": false
   },
   "outputs": [
    {
     "data": {
      "text/plain": [
       "{'init': u'epsg:4326'}"
      ]
     },
     "execution_count": 31,
     "metadata": {},
     "output_type": "execute_result"
    }
   ],
   "source": [
    "fuku_pref.crs"
   ]
  },
  {
   "cell_type": "markdown",
   "metadata": {},
   "source": [
    "## Spatial query"
   ]
  },
  {
   "cell_type": "code",
   "execution_count": 35,
   "metadata": {
    "collapsed": false
   },
   "outputs": [],
   "source": [
    "f = 'data/safecast_subset.csv'    # Path to file containing the table\n",
    "df = pd.read_csv(f)    # Read the table in"
   ]
  },
  {
   "cell_type": "code",
   "execution_count": 36,
   "metadata": {
    "collapsed": false
   },
   "outputs": [
    {
     "data": {
      "text/html": [
       "<div>\n",
       "<table border=\"1\" class=\"dataframe\">\n",
       "  <thead>\n",
       "    <tr style=\"text-align: right;\">\n",
       "      <th></th>\n",
       "      <th>id</th>\n",
       "      <th>value</th>\n",
       "      <th>captured_at</th>\n",
       "      <th>latitude</th>\n",
       "      <th>longitude</th>\n",
       "    </tr>\n",
       "  </thead>\n",
       "  <tbody>\n",
       "    <tr>\n",
       "      <th>0</th>\n",
       "      <td>15500999</td>\n",
       "      <td>20283</td>\n",
       "      <td>2012-01-18</td>\n",
       "      <td>37.414865</td>\n",
       "      <td>141.028495</td>\n",
       "    </tr>\n",
       "    <tr>\n",
       "      <th>1</th>\n",
       "      <td>15500998</td>\n",
       "      <td>19713</td>\n",
       "      <td>2012-01-18</td>\n",
       "      <td>37.414992</td>\n",
       "      <td>141.028215</td>\n",
       "    </tr>\n",
       "    <tr>\n",
       "      <th>2</th>\n",
       "      <td>15501000</td>\n",
       "      <td>20667</td>\n",
       "      <td>2012-01-18</td>\n",
       "      <td>37.414817</td>\n",
       "      <td>141.028568</td>\n",
       "    </tr>\n",
       "    <tr>\n",
       "      <th>3</th>\n",
       "      <td>15501002</td>\n",
       "      <td>21206</td>\n",
       "      <td>2012-01-18</td>\n",
       "      <td>37.414787</td>\n",
       "      <td>141.028612</td>\n",
       "    </tr>\n",
       "    <tr>\n",
       "      <th>4</th>\n",
       "      <td>15501003</td>\n",
       "      <td>21220</td>\n",
       "      <td>2012-01-18</td>\n",
       "      <td>37.414777</td>\n",
       "      <td>141.028622</td>\n",
       "    </tr>\n",
       "  </tbody>\n",
       "</table>\n",
       "</div>"
      ],
      "text/plain": [
       "         id  value captured_at   latitude   longitude\n",
       "0  15500999  20283  2012-01-18  37.414865  141.028495\n",
       "1  15500998  19713  2012-01-18  37.414992  141.028215\n",
       "2  15501000  20667  2012-01-18  37.414817  141.028568\n",
       "3  15501002  21206  2012-01-18  37.414787  141.028612\n",
       "4  15501003  21220  2012-01-18  37.414777  141.028622"
      ]
     },
     "execution_count": 36,
     "metadata": {},
     "output_type": "execute_result"
    }
   ],
   "source": [
    "df.head()"
   ]
  },
  {
   "cell_type": "code",
   "execution_count": 39,
   "metadata": {
    "collapsed": false
   },
   "outputs": [
    {
     "data": {
      "text/plain": [
       "288    POLYGON ((139.8783416748047 37.53739547729492,...\n",
       "289    POLYGON ((139.7485809326173 37.28300857543951,...\n",
       "290    POLYGON ((140.0434722900392 37.32676696777344,...\n",
       "291    POLYGON ((140.9058074951173 37.37606430053711,...\n",
       "292    POLYGON ((140.411865234375 37.53867721557629, ...\n",
       "Name: geometry, dtype: object"
      ]
     },
     "execution_count": 39,
     "metadata": {},
     "output_type": "execute_result"
    }
   ],
   "source": [
    "fuku_pref['geometry'].head()"
   ]
  },
  {
   "cell_type": "markdown",
   "metadata": {},
   "source": [
    "### Topology check [Optional]"
   ]
  },
  {
   "cell_type": "code",
   "execution_count": 58,
   "metadata": {
    "collapsed": false
   },
   "outputs": [
    {
     "data": {
      "text/plain": [
       "288    False\n",
       "289    False\n",
       "290    False\n",
       "291     True\n",
       "292    False\n",
       "293    False\n",
       "294    False\n",
       "295    False\n",
       "296    False\n",
       "297    False\n",
       "298    False\n",
       "299    False\n",
       "300    False\n",
       "301    False\n",
       "302    False\n",
       "303    False\n",
       "304    False\n",
       "305    False\n",
       "306    False\n",
       "307    False\n",
       "308    False\n",
       "309    False\n",
       "310    False\n",
       "311    False\n",
       "312    False\n",
       "313    False\n",
       "314    False\n",
       "315    False\n",
       "316    False\n",
       "317    False\n",
       "318    False\n",
       "319    False\n",
       "320    False\n",
       "321    False\n",
       "322    False\n",
       "323    False\n",
       "324    False\n",
       "325    False\n",
       "326    False\n",
       "327    False\n",
       "328    False\n",
       "329    False\n",
       "330    False\n",
       "331    False\n",
       "332    False\n",
       "333    False\n",
       "334    False\n",
       "335    False\n",
       "336    False\n",
       "337    False\n",
       "338    False\n",
       "339    False\n",
       "340    False\n",
       "341    False\n",
       "342    False\n",
       "343    False\n",
       "344    False\n",
       "345    False\n",
       "346    False\n",
       "347    False\n",
       "dtype: bool"
      ]
     },
     "execution_count": 58,
     "metadata": {},
     "output_type": "execute_result"
    }
   ],
   "source": [
    "# Checking if polygon contains a point\n",
    "p1 = Point(141.028495,37.414865)\n",
    "fuku_pref['geometry'].contains(p1)"
   ]
  },
  {
   "cell_type": "code",
   "execution_count": 78,
   "metadata": {
    "collapsed": false
   },
   "outputs": [
    {
     "name": "stdout",
     "output_type": "stream",
     "text": [
      "Ōkuma\n"
     ]
    }
   ],
   "source": [
    "print(fuku_pref[fuku_pref['geometry'].contains(p1)]['municipality'].iloc[0])"
   ]
  },
  {
   "cell_type": "code",
   "execution_count": 79,
   "metadata": {
    "collapsed": false
   },
   "outputs": [
    {
     "data": {
      "text/html": [
       "<div>\n",
       "<table border=\"1\" class=\"dataframe\">\n",
       "  <thead>\n",
       "    <tr style=\"text-align: right;\">\n",
       "      <th></th>\n",
       "      <th>id</th>\n",
       "      <th>value</th>\n",
       "      <th>captured_at</th>\n",
       "      <th>latitude</th>\n",
       "      <th>longitude</th>\n",
       "    </tr>\n",
       "  </thead>\n",
       "  <tbody>\n",
       "    <tr>\n",
       "      <th>0</th>\n",
       "      <td>15500999</td>\n",
       "      <td>20283</td>\n",
       "      <td>2012-01-18</td>\n",
       "      <td>37.414865</td>\n",
       "      <td>141.028495</td>\n",
       "    </tr>\n",
       "    <tr>\n",
       "      <th>1</th>\n",
       "      <td>15500998</td>\n",
       "      <td>19713</td>\n",
       "      <td>2012-01-18</td>\n",
       "      <td>37.414992</td>\n",
       "      <td>141.028215</td>\n",
       "    </tr>\n",
       "    <tr>\n",
       "      <th>2</th>\n",
       "      <td>15501000</td>\n",
       "      <td>20667</td>\n",
       "      <td>2012-01-18</td>\n",
       "      <td>37.414817</td>\n",
       "      <td>141.028568</td>\n",
       "    </tr>\n",
       "    <tr>\n",
       "      <th>3</th>\n",
       "      <td>15501002</td>\n",
       "      <td>21206</td>\n",
       "      <td>2012-01-18</td>\n",
       "      <td>37.414787</td>\n",
       "      <td>141.028612</td>\n",
       "    </tr>\n",
       "    <tr>\n",
       "      <th>4</th>\n",
       "      <td>15501003</td>\n",
       "      <td>21220</td>\n",
       "      <td>2012-01-18</td>\n",
       "      <td>37.414777</td>\n",
       "      <td>141.028622</td>\n",
       "    </tr>\n",
       "  </tbody>\n",
       "</table>\n",
       "</div>"
      ],
      "text/plain": [
       "         id  value captured_at   latitude   longitude\n",
       "0  15500999  20283  2012-01-18  37.414865  141.028495\n",
       "1  15500998  19713  2012-01-18  37.414992  141.028215\n",
       "2  15501000  20667  2012-01-18  37.414817  141.028568\n",
       "3  15501002  21206  2012-01-18  37.414787  141.028612\n",
       "4  15501003  21220  2012-01-18  37.414777  141.028622"
      ]
     },
     "execution_count": 79,
     "metadata": {},
     "output_type": "execute_result"
    }
   ],
   "source": [
    "df.head()"
   ]
  },
  {
   "cell_type": "code",
   "execution_count": 161,
   "metadata": {
    "collapsed": false
   },
   "outputs": [],
   "source": [
    "# Convert dataframe to geodataframe\n",
    "crs = {'init': 'epsg:4326'}\n",
    "geometry = [Point(xy) for xy in zip(df.longitude, df.latitude)]\n",
    "df = df.drop(['longitude', 'latitude'], axis=1)\n",
    "geo_df = gpd.GeoDataFrame(df, crs=crs, geometry=geometry)"
   ]
  },
  {
   "cell_type": "code",
   "execution_count": 162,
   "metadata": {
    "collapsed": false
   },
   "outputs": [],
   "source": [
    "municipality = []\n",
    "for p in geo_df.geometry:\n",
    "    mask = fuku_pref['geometry'].contains(p)\n",
    "    if any(mask):\n",
    "        match = fuku_pref[fuku_pref['geometry'].contains(p)]['municipality'].iloc[0]\n",
    "    else:\n",
    "        match = ''\n",
    "    municipality.append(match)"
   ]
  },
  {
   "cell_type": "code",
   "execution_count": 159,
   "metadata": {
    "collapsed": false
   },
   "outputs": [],
   "source": [
    "geo_df['municipality'] = municipality"
   ]
  },
  {
   "cell_type": "code",
   "execution_count": 163,
   "metadata": {
    "collapsed": false
   },
   "outputs": [
    {
     "data": {
      "text/html": [
       "<div>\n",
       "<table border=\"1\" class=\"dataframe\">\n",
       "  <thead>\n",
       "    <tr style=\"text-align: right;\">\n",
       "      <th></th>\n",
       "      <th>id</th>\n",
       "      <th>value</th>\n",
       "      <th>captured_at</th>\n",
       "      <th>municipality</th>\n",
       "      <th>geometry</th>\n",
       "    </tr>\n",
       "  </thead>\n",
       "  <tbody>\n",
       "    <tr>\n",
       "      <th>0</th>\n",
       "      <td>15500999</td>\n",
       "      <td>20283</td>\n",
       "      <td>2012-01-18</td>\n",
       "      <td>Ōkuma</td>\n",
       "      <td>POINT (141.028495 37.414865)</td>\n",
       "    </tr>\n",
       "    <tr>\n",
       "      <th>1</th>\n",
       "      <td>15500998</td>\n",
       "      <td>19713</td>\n",
       "      <td>2012-01-18</td>\n",
       "      <td>Ōkuma</td>\n",
       "      <td>POINT (141.028215 37.414991666667)</td>\n",
       "    </tr>\n",
       "    <tr>\n",
       "      <th>2</th>\n",
       "      <td>15501000</td>\n",
       "      <td>20667</td>\n",
       "      <td>2012-01-18</td>\n",
       "      <td>Ōkuma</td>\n",
       "      <td>POINT (141.02856833333 37.414816666667)</td>\n",
       "    </tr>\n",
       "    <tr>\n",
       "      <th>3</th>\n",
       "      <td>15501002</td>\n",
       "      <td>21206</td>\n",
       "      <td>2012-01-18</td>\n",
       "      <td>Ōkuma</td>\n",
       "      <td>POINT (141.02861166667 37.414786666667)</td>\n",
       "    </tr>\n",
       "    <tr>\n",
       "      <th>4</th>\n",
       "      <td>15501003</td>\n",
       "      <td>21220</td>\n",
       "      <td>2012-01-18</td>\n",
       "      <td>Ōkuma</td>\n",
       "      <td>POINT (141.02862166667 37.414776666667)</td>\n",
       "    </tr>\n",
       "  </tbody>\n",
       "</table>\n",
       "</div>"
      ],
      "text/plain": [
       "         id  value captured_at municipality  \\\n",
       "0  15500999  20283  2012-01-18        Ōkuma   \n",
       "1  15500998  19713  2012-01-18        Ōkuma   \n",
       "2  15501000  20667  2012-01-18        Ōkuma   \n",
       "3  15501002  21206  2012-01-18        Ōkuma   \n",
       "4  15501003  21220  2012-01-18        Ōkuma   \n",
       "\n",
       "                                  geometry  \n",
       "0             POINT (141.028495 37.414865)  \n",
       "1       POINT (141.028215 37.414991666667)  \n",
       "2  POINT (141.02856833333 37.414816666667)  \n",
       "3  POINT (141.02861166667 37.414786666667)  \n",
       "4  POINT (141.02862166667 37.414776666667)  "
      ]
     },
     "execution_count": 163,
     "metadata": {},
     "output_type": "execute_result"
    }
   ],
   "source": [
    "geo_df.head()"
   ]
  },
  {
   "cell_type": "code",
   "execution_count": 165,
   "metadata": {
    "collapsed": false
   },
   "outputs": [
    {
     "data": {
      "text/plain": [
       "<matplotlib.axes._subplots.AxesSubplot at 0x10c8cd6d0>"
      ]
     },
     "execution_count": 165,
     "metadata": {},
     "output_type": "execute_result"
    },
    {
     "data": {
      "image/png": "[encoded data removed]",
      "text/plain": [
       "<matplotlib.figure.Figure at 0x12693f110>"
      ]
     },
     "metadata": {},
     "output_type": "display_data"
    }
   ],
   "source": [
    "plt.rcParams[\"figure.figsize\"] = [10, 10]\n",
    "geo_df.plot()"
   ]
  },
  {
   "cell_type": "code",
   "execution_count": null,
   "metadata": {
    "collapsed": true
   },
   "outputs": [],
   "source": []
  }
 ],
 "metadata": {
  "kernelspec": {
   "display_name": "Python 2",
   "language": "python",
   "name": "python2"
  },
  "language_info": {
   "codemirror_mode": {
    "name": "ipython",
    "version": 2
   },
   "file_extension": ".py",
   "mimetype": "text/x-python",
   "name": "python",
   "nbconvert_exporter": "python",
   "pygments_lexer": "ipython2",
   "version": "2.7.11"
  }
 },
 "nbformat": 4,
 "nbformat_minor": 0
}

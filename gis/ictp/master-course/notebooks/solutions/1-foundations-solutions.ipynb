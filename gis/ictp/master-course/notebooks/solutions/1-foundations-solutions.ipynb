{
 "cells": [
  {
   "cell_type": "markdown",
   "metadata": {},
   "source": [
    "### ICTP-IAEA WORKSHOOP ON ENVIRONMENTAL MAPPING: Mobilising\tTrust\tin Measurements\tand\tEngaging Scientific Citizenry, Trieste, March 2017\n",
    "---\n"
   ]
  },
  {
   "cell_type": "markdown",
   "metadata": {},
   "source": [
    "# I. Python foundations - Solutions"
   ]
  },
  {
   "cell_type": "code",
   "execution_count": 3,
   "metadata": {
    "collapsed": true
   },
   "outputs": [],
   "source": [
    "import numpy as np"
   ]
  },
  {
   "cell_type": "markdown",
   "metadata": {},
   "source": [
    "### Version 1: Naive"
   ]
  },
  {
   "cell_type": "code",
   "execution_count": 26,
   "metadata": {
    "collapsed": false
   },
   "outputs": [
    {
     "data": {
      "text/plain": [
       "{0: 'even',\n",
       " 1: 'odd',\n",
       " 2: 'even',\n",
       " 3: 'odd',\n",
       " 4: 'even',\n",
       " 5: 'odd',\n",
       " 6: 'even',\n",
       " 7: 'odd',\n",
       " 8: 'even',\n",
       " 9: 'odd'}"
      ]
     },
     "execution_count": 26,
     "metadata": {},
     "output_type": "execute_result"
    }
   ],
   "source": [
    "def seq_parity1(length):\n",
    "    \"\"\"\n",
    "    Return the parity of a sequence of integer\n",
    "    ...\n",
    "    \n",
    "    Arguments\n",
    "    ---------\n",
    "    length : int\n",
    "             Length of the sequence \n",
    "    \n",
    "    Returns\n",
    "    -------\n",
    "    data   : dict \n",
    "             Dictionary with sequence integer as keys and parity as values\n",
    "    \"\"\"\n",
    "    data = {}\n",
    "    seq = np.arange(length)\n",
    "    for i in seq:\n",
    "        if i%2:\n",
    "            data[i] = 'odd'\n",
    "        else:\n",
    "            data[i] = 'even'\n",
    "            \n",
    "    return data\n",
    "\n",
    "seq_parity1(10)"
   ]
  },
  {
   "cell_type": "markdown",
   "metadata": {},
   "source": [
    "### Version 2: with an if else in one line"
   ]
  },
  {
   "cell_type": "code",
   "execution_count": 8,
   "metadata": {
    "collapsed": false
   },
   "outputs": [
    {
     "data": {
      "text/plain": [
       "{0: 'even',\n",
       " 1: 'odd',\n",
       " 2: 'even',\n",
       " 3: 'odd',\n",
       " 4: 'even',\n",
       " 5: 'odd',\n",
       " 6: 'even',\n",
       " 7: 'odd',\n",
       " 8: 'even',\n",
       " 9: 'odd'}"
      ]
     },
     "execution_count": 8,
     "metadata": {},
     "output_type": "execute_result"
    }
   ],
   "source": [
    "def seq_parity2(length):\n",
    "    \"\"\"\n",
    "    Return the parity of a sequence of integer\n",
    "    ...\n",
    "    \n",
    "    Arguments\n",
    "    ---------\n",
    "    length : int\n",
    "             Length of the sequence \n",
    "    \n",
    "    Returns\n",
    "    -------\n",
    "    data   : dict \n",
    "             Dictionary with sequence integer as keys and parity as values\n",
    "    \"\"\"\n",
    "    data = {}\n",
    "    seq = np.arange(length)\n",
    "    for i in seq:\n",
    "        data[i] ='odd' if i%2 else 'even'\n",
    "    return data\n",
    "\n",
    "seq_parity1(10)"
   ]
  },
  {
   "cell_type": "markdown",
   "metadata": {},
   "source": [
    "### Version 3: Concise and still readable"
   ]
  },
  {
   "cell_type": "code",
   "execution_count": 29,
   "metadata": {
    "collapsed": false
   },
   "outputs": [
    {
     "data": {
      "text/plain": [
       "{0: 'even',\n",
       " 1: 'odd',\n",
       " 2: 'even',\n",
       " 3: 'odd',\n",
       " 4: 'even',\n",
       " 5: 'odd',\n",
       " 6: 'even',\n",
       " 7: 'odd',\n",
       " 8: 'even',\n",
       " 9: 'odd'}"
      ]
     },
     "execution_count": 29,
     "metadata": {},
     "output_type": "execute_result"
    }
   ],
   "source": [
    "# A one liner\n",
    "dict([(i, 'odd' if i%2 else 'even') for i in np.arange(10)])"
   ]
  }
 ],
 "metadata": {
  "kernelspec": {
   "display_name": "Python 2",
   "language": "python",
   "name": "python2"
  },
  "language_info": {
   "codemirror_mode": {
    "name": "ipython",
    "version": 2
   },
   "file_extension": ".py",
   "mimetype": "text/x-python",
   "name": "python",
   "nbconvert_exporter": "python",
   "pygments_lexer": "ipython2",
   "version": "2.7.11"
  }
 },
 "nbformat": 4,
 "nbformat_minor": 0
}

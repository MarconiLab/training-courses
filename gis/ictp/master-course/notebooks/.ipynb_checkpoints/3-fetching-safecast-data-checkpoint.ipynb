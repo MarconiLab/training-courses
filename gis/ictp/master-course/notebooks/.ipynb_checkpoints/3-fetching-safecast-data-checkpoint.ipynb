{
 "cells": [
  {
   "cell_type": "markdown",
   "metadata": {},
   "source": [
    "### ICTP-IAEA WORKSHOOP ON ENVIRONMENTAL MAPPING: Mobilising\tTrust\tin Measurements\tand\tEngaging Scientific Citizenry, Trieste, March 2017\n",
    "---\n"
   ]
  },
  {
   "cell_type": "markdown",
   "metadata": {},
   "source": [
    "# III. Fetching data from Safecast API with Python"
   ]
  },
  {
   "cell_type": "code",
   "execution_count": 7,
   "metadata": {
    "collapsed": true
   },
   "outputs": [],
   "source": [
    "import pandas as pd"
   ]
  },
  {
   "cell_type": "code",
   "execution_count": 96,
   "metadata": {
    "collapsed": false
   },
   "outputs": [],
   "source": [
    "# Building the url as a long string in one go\n",
    "url = \"https://api.safecast.org/measurements.json?\"\\\n",
    "      \"distance=100000&\"\\\n",
    "      \"longitude=141.0337&\"\\\n",
    "      \"captured_before=2012-04-10&\"\\\n",
    "      \"latitude=37.4218&\"\\\n",
    "      \"per_page=2000&\"\\\n",
    "      \"captured_after=2011-03-10\""
   ]
  },
  {
   "cell_type": "code",
   "execution_count": 97,
   "metadata": {
    "collapsed": false
   },
   "outputs": [
    {
     "data": {
      "text/plain": [
       "'https://api.safecast.org/measurements.json?distance=100000&longitude=141.0337&captured_before=2012-04-10&latitude=37.4218&per_page=2000&captured_after=2011-03-10'"
      ]
     },
     "execution_count": 97,
     "metadata": {},
     "output_type": "execute_result"
    }
   ],
   "source": [
    "url"
   ]
  },
  {
   "cell_type": "code",
   "execution_count": 92,
   "metadata": {
    "collapsed": true
   },
   "outputs": [],
   "source": [
    "# More advanced but cleaner way to generate the url\n",
    "params = {'distance': 100000, 'latitude': 37.4218, 'longitude': 141.0337,\n",
    "          'captured_after': '2011-03-10', 'captured_before': '2012-04-10',\n",
    "          'per_page': 20000}\n",
    "basis_url = 'https://api.safecast.org/measurements.json?'\n",
    "url = basis_url + '&'.join(['%s=%s' % (key, value) for (key, value) in params.items()])"
   ]
  },
  {
   "cell_type": "code",
   "execution_count": 93,
   "metadata": {
    "collapsed": false
   },
   "outputs": [],
   "source": [
    "# Import requests package\n",
    "import requests\n",
    "\n",
    "# Package the request, send the request and catch the response: r\n",
    "r = requests.get(url)\n",
    "\n",
    "json_data = r.json()"
   ]
  },
  {
   "cell_type": "code",
   "execution_count": 94,
   "metadata": {
    "collapsed": false
   },
   "outputs": [],
   "source": [
    "df = pd.DataFrame(json_data)"
   ]
  },
  {
   "cell_type": "code",
   "execution_count": 95,
   "metadata": {
    "collapsed": false
   },
   "outputs": [
    {
     "data": {
      "text/html": [
       "<div>\n",
       "<table border=\"1\" class=\"dataframe\">\n",
       "  <thead>\n",
       "    <tr style=\"text-align: right;\">\n",
       "      <th></th>\n",
       "      <th>captured_at</th>\n",
       "      <th>channel_id</th>\n",
       "      <th>device_id</th>\n",
       "      <th>devicetype_id</th>\n",
       "      <th>height</th>\n",
       "      <th>id</th>\n",
       "      <th>latitude</th>\n",
       "      <th>location_name</th>\n",
       "      <th>longitude</th>\n",
       "      <th>original_id</th>\n",
       "      <th>sensor_id</th>\n",
       "      <th>station_id</th>\n",
       "      <th>unit</th>\n",
       "      <th>user_id</th>\n",
       "      <th>value</th>\n",
       "    </tr>\n",
       "  </thead>\n",
       "  <tbody>\n",
       "    <tr>\n",
       "      <th>0</th>\n",
       "      <td>2012-01-18T02:32:50.000Z</td>\n",
       "      <td>None</td>\n",
       "      <td>None</td>\n",
       "      <td>None</td>\n",
       "      <td>None</td>\n",
       "      <td>15500999</td>\n",
       "      <td>37.414865</td>\n",
       "      <td>None</td>\n",
       "      <td>141.028495</td>\n",
       "      <td>None</td>\n",
       "      <td>None</td>\n",
       "      <td>None</td>\n",
       "      <td>cpm</td>\n",
       "      <td>1</td>\n",
       "      <td>20283.0</td>\n",
       "    </tr>\n",
       "    <tr>\n",
       "      <th>1</th>\n",
       "      <td>2012-01-18T02:32:45.000Z</td>\n",
       "      <td>None</td>\n",
       "      <td>None</td>\n",
       "      <td>None</td>\n",
       "      <td>None</td>\n",
       "      <td>15500998</td>\n",
       "      <td>37.414992</td>\n",
       "      <td>None</td>\n",
       "      <td>141.028215</td>\n",
       "      <td>None</td>\n",
       "      <td>None</td>\n",
       "      <td>None</td>\n",
       "      <td>cpm</td>\n",
       "      <td>1</td>\n",
       "      <td>19713.0</td>\n",
       "    </tr>\n",
       "    <tr>\n",
       "      <th>2</th>\n",
       "      <td>2012-01-18T02:32:55.000Z</td>\n",
       "      <td>None</td>\n",
       "      <td>None</td>\n",
       "      <td>None</td>\n",
       "      <td>None</td>\n",
       "      <td>15501000</td>\n",
       "      <td>37.414817</td>\n",
       "      <td>None</td>\n",
       "      <td>141.028568</td>\n",
       "      <td>None</td>\n",
       "      <td>None</td>\n",
       "      <td>None</td>\n",
       "      <td>cpm</td>\n",
       "      <td>1</td>\n",
       "      <td>20667.0</td>\n",
       "    </tr>\n",
       "    <tr>\n",
       "      <th>3</th>\n",
       "      <td>2012-01-18T02:33:05.000Z</td>\n",
       "      <td>None</td>\n",
       "      <td>None</td>\n",
       "      <td>None</td>\n",
       "      <td>None</td>\n",
       "      <td>15501002</td>\n",
       "      <td>37.414787</td>\n",
       "      <td>None</td>\n",
       "      <td>141.028612</td>\n",
       "      <td>None</td>\n",
       "      <td>None</td>\n",
       "      <td>None</td>\n",
       "      <td>cpm</td>\n",
       "      <td>1</td>\n",
       "      <td>21206.0</td>\n",
       "    </tr>\n",
       "    <tr>\n",
       "      <th>4</th>\n",
       "      <td>2012-01-18T02:33:10.000Z</td>\n",
       "      <td>None</td>\n",
       "      <td>None</td>\n",
       "      <td>None</td>\n",
       "      <td>None</td>\n",
       "      <td>15501003</td>\n",
       "      <td>37.414777</td>\n",
       "      <td>None</td>\n",
       "      <td>141.028622</td>\n",
       "      <td>None</td>\n",
       "      <td>None</td>\n",
       "      <td>None</td>\n",
       "      <td>cpm</td>\n",
       "      <td>1</td>\n",
       "      <td>21220.0</td>\n",
       "    </tr>\n",
       "  </tbody>\n",
       "</table>\n",
       "</div>"
      ],
      "text/plain": [
       "                captured_at channel_id device_id devicetype_id height  \\\n",
       "0  2012-01-18T02:32:50.000Z       None      None          None   None   \n",
       "1  2012-01-18T02:32:45.000Z       None      None          None   None   \n",
       "2  2012-01-18T02:32:55.000Z       None      None          None   None   \n",
       "3  2012-01-18T02:33:05.000Z       None      None          None   None   \n",
       "4  2012-01-18T02:33:10.000Z       None      None          None   None   \n",
       "\n",
       "         id   latitude location_name   longitude original_id sensor_id  \\\n",
       "0  15500999  37.414865          None  141.028495        None      None   \n",
       "1  15500998  37.414992          None  141.028215        None      None   \n",
       "2  15501000  37.414817          None  141.028568        None      None   \n",
       "3  15501002  37.414787          None  141.028612        None      None   \n",
       "4  15501003  37.414777          None  141.028622        None      None   \n",
       "\n",
       "  station_id unit  user_id    value  \n",
       "0       None  cpm        1  20283.0  \n",
       "1       None  cpm        1  19713.0  \n",
       "2       None  cpm        1  20667.0  \n",
       "3       None  cpm        1  21206.0  \n",
       "4       None  cpm        1  21220.0  "
      ]
     },
     "execution_count": 95,
     "metadata": {},
     "output_type": "execute_result"
    }
   ],
   "source": [
    "df.head()"
   ]
  },
  {
   "cell_type": "code",
   "execution_count": 24,
   "metadata": {
    "collapsed": false
   },
   "outputs": [
    {
     "data": {
      "text/plain": [
       "(20000, 15)"
      ]
     },
     "execution_count": 24,
     "metadata": {},
     "output_type": "execute_result"
    }
   ],
   "source": [
    "df.shape"
   ]
  },
  {
   "cell_type": "code",
   "execution_count": 25,
   "metadata": {
    "collapsed": false
   },
   "outputs": [
    {
     "data": {
      "text/plain": [
       "user_id\n",
       "1      17813\n",
       "3        538\n",
       "148     1649\n",
       "dtype: int64"
      ]
     },
     "execution_count": 25,
     "metadata": {},
     "output_type": "execute_result"
    }
   ],
   "source": [
    "# Using pandas to get measurements by user\n",
    "df.groupby(by='user_id').size()"
   ]
  },
  {
   "cell_type": "code",
   "execution_count": 23,
   "metadata": {
    "collapsed": false
   },
   "outputs": [],
   "source": [
    "df.to_csv('data/safecast_from_api.csv')"
   ]
  },
  {
   "cell_type": "markdown",
   "metadata": {},
   "source": [
    "## A word on Big data"
   ]
  },
  {
   "cell_type": "code",
   "execution_count": 36,
   "metadata": {
    "collapsed": false
   },
   "outputs": [
    {
     "data": {
      "text/html": [
       "<div>\n",
       "<table border=\"1\" class=\"dataframe\">\n",
       "  <thead>\n",
       "    <tr style=\"text-align: right;\">\n",
       "      <th></th>\n",
       "      <th>Unnamed: 0</th>\n",
       "      <th>captured_at</th>\n",
       "      <th>channel_id</th>\n",
       "      <th>device_id</th>\n",
       "      <th>devicetype_id</th>\n",
       "      <th>height</th>\n",
       "      <th>id</th>\n",
       "      <th>latitude</th>\n",
       "      <th>location_name</th>\n",
       "      <th>longitude</th>\n",
       "      <th>original_id</th>\n",
       "      <th>sensor_id</th>\n",
       "      <th>station_id</th>\n",
       "      <th>unit</th>\n",
       "      <th>user_id</th>\n",
       "      <th>value</th>\n",
       "    </tr>\n",
       "  </thead>\n",
       "  <tbody>\n",
       "    <tr>\n",
       "      <th>0</th>\n",
       "      <td>0</td>\n",
       "      <td>2012-01-18T02:32:50.000Z</td>\n",
       "      <td>NaN</td>\n",
       "      <td>NaN</td>\n",
       "      <td>NaN</td>\n",
       "      <td>NaN</td>\n",
       "      <td>15500999</td>\n",
       "      <td>37.414865</td>\n",
       "      <td>NaN</td>\n",
       "      <td>141.028495</td>\n",
       "      <td>NaN</td>\n",
       "      <td>NaN</td>\n",
       "      <td>NaN</td>\n",
       "      <td>cpm</td>\n",
       "      <td>1</td>\n",
       "      <td>20283.0</td>\n",
       "    </tr>\n",
       "    <tr>\n",
       "      <th>1</th>\n",
       "      <td>1</td>\n",
       "      <td>2012-01-18T02:32:45.000Z</td>\n",
       "      <td>NaN</td>\n",
       "      <td>NaN</td>\n",
       "      <td>NaN</td>\n",
       "      <td>NaN</td>\n",
       "      <td>15500998</td>\n",
       "      <td>37.414992</td>\n",
       "      <td>NaN</td>\n",
       "      <td>141.028215</td>\n",
       "      <td>NaN</td>\n",
       "      <td>NaN</td>\n",
       "      <td>NaN</td>\n",
       "      <td>cpm</td>\n",
       "      <td>1</td>\n",
       "      <td>19713.0</td>\n",
       "    </tr>\n",
       "    <tr>\n",
       "      <th>2</th>\n",
       "      <td>2</td>\n",
       "      <td>2012-01-18T02:32:55.000Z</td>\n",
       "      <td>NaN</td>\n",
       "      <td>NaN</td>\n",
       "      <td>NaN</td>\n",
       "      <td>NaN</td>\n",
       "      <td>15501000</td>\n",
       "      <td>37.414817</td>\n",
       "      <td>NaN</td>\n",
       "      <td>141.028568</td>\n",
       "      <td>NaN</td>\n",
       "      <td>NaN</td>\n",
       "      <td>NaN</td>\n",
       "      <td>cpm</td>\n",
       "      <td>1</td>\n",
       "      <td>20667.0</td>\n",
       "    </tr>\n",
       "    <tr>\n",
       "      <th>3</th>\n",
       "      <td>3</td>\n",
       "      <td>2012-01-18T02:33:05.000Z</td>\n",
       "      <td>NaN</td>\n",
       "      <td>NaN</td>\n",
       "      <td>NaN</td>\n",
       "      <td>NaN</td>\n",
       "      <td>15501002</td>\n",
       "      <td>37.414787</td>\n",
       "      <td>NaN</td>\n",
       "      <td>141.028612</td>\n",
       "      <td>NaN</td>\n",
       "      <td>NaN</td>\n",
       "      <td>NaN</td>\n",
       "      <td>cpm</td>\n",
       "      <td>1</td>\n",
       "      <td>21206.0</td>\n",
       "    </tr>\n",
       "    <tr>\n",
       "      <th>4</th>\n",
       "      <td>4</td>\n",
       "      <td>2012-01-18T02:33:10.000Z</td>\n",
       "      <td>NaN</td>\n",
       "      <td>NaN</td>\n",
       "      <td>NaN</td>\n",
       "      <td>NaN</td>\n",
       "      <td>15501003</td>\n",
       "      <td>37.414777</td>\n",
       "      <td>NaN</td>\n",
       "      <td>141.028622</td>\n",
       "      <td>NaN</td>\n",
       "      <td>NaN</td>\n",
       "      <td>NaN</td>\n",
       "      <td>cpm</td>\n",
       "      <td>1</td>\n",
       "      <td>21220.0</td>\n",
       "    </tr>\n",
       "  </tbody>\n",
       "</table>\n",
       "</div>"
      ],
      "text/plain": [
       "   Unnamed: 0               captured_at  channel_id  device_id  devicetype_id  \\\n",
       "0           0  2012-01-18T02:32:50.000Z         NaN        NaN            NaN   \n",
       "1           1  2012-01-18T02:32:45.000Z         NaN        NaN            NaN   \n",
       "2           2  2012-01-18T02:32:55.000Z         NaN        NaN            NaN   \n",
       "3           3  2012-01-18T02:33:05.000Z         NaN        NaN            NaN   \n",
       "4           4  2012-01-18T02:33:10.000Z         NaN        NaN            NaN   \n",
       "\n",
       "   height        id   latitude  location_name   longitude  original_id  \\\n",
       "0     NaN  15500999  37.414865            NaN  141.028495          NaN   \n",
       "1     NaN  15500998  37.414992            NaN  141.028215          NaN   \n",
       "2     NaN  15501000  37.414817            NaN  141.028568          NaN   \n",
       "3     NaN  15501002  37.414787            NaN  141.028612          NaN   \n",
       "4     NaN  15501003  37.414777            NaN  141.028622          NaN   \n",
       "\n",
       "   sensor_id  station_id unit  user_id    value  \n",
       "0        NaN         NaN  cpm        1  20283.0  \n",
       "1        NaN         NaN  cpm        1  19713.0  \n",
       "2        NaN         NaN  cpm        1  20667.0  \n",
       "3        NaN         NaN  cpm        1  21206.0  \n",
       "4        NaN         NaN  cpm        1  21220.0  "
      ]
     },
     "execution_count": 36,
     "metadata": {},
     "output_type": "execute_result"
    }
   ],
   "source": [
    "f = 'data/safecast_big_data.csv'    # Path to file containing the table\n",
    "\n",
    "# A quick look at first 5 rows\n",
    "data_iter = pd.read_csv(f, chunksize=5)\n",
    "next(data_iter)"
   ]
  },
  {
   "cell_type": "code",
   "execution_count": 37,
   "metadata": {
    "collapsed": false
   },
   "outputs": [
    {
     "data": {
      "text/html": [
       "<div>\n",
       "<table border=\"1\" class=\"dataframe\">\n",
       "  <thead>\n",
       "    <tr style=\"text-align: right;\">\n",
       "      <th></th>\n",
       "      <th>Unnamed: 0</th>\n",
       "      <th>captured_at</th>\n",
       "      <th>channel_id</th>\n",
       "      <th>device_id</th>\n",
       "      <th>devicetype_id</th>\n",
       "      <th>height</th>\n",
       "      <th>id</th>\n",
       "      <th>latitude</th>\n",
       "      <th>location_name</th>\n",
       "      <th>longitude</th>\n",
       "      <th>original_id</th>\n",
       "      <th>sensor_id</th>\n",
       "      <th>station_id</th>\n",
       "      <th>unit</th>\n",
       "      <th>user_id</th>\n",
       "      <th>value</th>\n",
       "    </tr>\n",
       "  </thead>\n",
       "  <tbody>\n",
       "    <tr>\n",
       "      <th>0</th>\n",
       "      <td>5</td>\n",
       "      <td>2012-01-18T02:33:00.000Z</td>\n",
       "      <td>NaN</td>\n",
       "      <td>NaN</td>\n",
       "      <td>NaN</td>\n",
       "      <td>NaN</td>\n",
       "      <td>15501001</td>\n",
       "      <td>37.414792</td>\n",
       "      <td>NaN</td>\n",
       "      <td>141.028588</td>\n",
       "      <td>NaN</td>\n",
       "      <td>NaN</td>\n",
       "      <td>NaN</td>\n",
       "      <td>cpm</td>\n",
       "      <td>1</td>\n",
       "      <td>20916.0</td>\n",
       "    </tr>\n",
       "    <tr>\n",
       "      <th>1</th>\n",
       "      <td>6</td>\n",
       "      <td>2012-01-18T02:33:15.000Z</td>\n",
       "      <td>NaN</td>\n",
       "      <td>NaN</td>\n",
       "      <td>NaN</td>\n",
       "      <td>NaN</td>\n",
       "      <td>15501004</td>\n",
       "      <td>37.414760</td>\n",
       "      <td>NaN</td>\n",
       "      <td>141.028643</td>\n",
       "      <td>NaN</td>\n",
       "      <td>NaN</td>\n",
       "      <td>NaN</td>\n",
       "      <td>cpm</td>\n",
       "      <td>1</td>\n",
       "      <td>20809.0</td>\n",
       "    </tr>\n",
       "    <tr>\n",
       "      <th>2</th>\n",
       "      <td>7</td>\n",
       "      <td>2012-01-18T02:38:10.000Z</td>\n",
       "      <td>NaN</td>\n",
       "      <td>NaN</td>\n",
       "      <td>NaN</td>\n",
       "      <td>NaN</td>\n",
       "      <td>15501063</td>\n",
       "      <td>37.414698</td>\n",
       "      <td>NaN</td>\n",
       "      <td>141.028720</td>\n",
       "      <td>NaN</td>\n",
       "      <td>NaN</td>\n",
       "      <td>NaN</td>\n",
       "      <td>cpm</td>\n",
       "      <td>1</td>\n",
       "      <td>20432.0</td>\n",
       "    </tr>\n",
       "    <tr>\n",
       "      <th>3</th>\n",
       "      <td>8</td>\n",
       "      <td>2012-01-18T02:38:15.000Z</td>\n",
       "      <td>NaN</td>\n",
       "      <td>NaN</td>\n",
       "      <td>NaN</td>\n",
       "      <td>NaN</td>\n",
       "      <td>15501064</td>\n",
       "      <td>37.414697</td>\n",
       "      <td>NaN</td>\n",
       "      <td>141.028720</td>\n",
       "      <td>NaN</td>\n",
       "      <td>NaN</td>\n",
       "      <td>NaN</td>\n",
       "      <td>cpm</td>\n",
       "      <td>1</td>\n",
       "      <td>20394.0</td>\n",
       "    </tr>\n",
       "    <tr>\n",
       "      <th>4</th>\n",
       "      <td>9</td>\n",
       "      <td>2012-01-18T02:38:05.000Z</td>\n",
       "      <td>NaN</td>\n",
       "      <td>NaN</td>\n",
       "      <td>NaN</td>\n",
       "      <td>NaN</td>\n",
       "      <td>15501062</td>\n",
       "      <td>37.414697</td>\n",
       "      <td>NaN</td>\n",
       "      <td>141.028720</td>\n",
       "      <td>NaN</td>\n",
       "      <td>NaN</td>\n",
       "      <td>NaN</td>\n",
       "      <td>cpm</td>\n",
       "      <td>1</td>\n",
       "      <td>20504.0</td>\n",
       "    </tr>\n",
       "  </tbody>\n",
       "</table>\n",
       "</div>"
      ],
      "text/plain": [
       "   Unnamed: 0               captured_at  channel_id  device_id  devicetype_id  \\\n",
       "0           5  2012-01-18T02:33:00.000Z         NaN        NaN            NaN   \n",
       "1           6  2012-01-18T02:33:15.000Z         NaN        NaN            NaN   \n",
       "2           7  2012-01-18T02:38:10.000Z         NaN        NaN            NaN   \n",
       "3           8  2012-01-18T02:38:15.000Z         NaN        NaN            NaN   \n",
       "4           9  2012-01-18T02:38:05.000Z         NaN        NaN            NaN   \n",
       "\n",
       "   height        id   latitude  location_name   longitude  original_id  \\\n",
       "0     NaN  15501001  37.414792            NaN  141.028588          NaN   \n",
       "1     NaN  15501004  37.414760            NaN  141.028643          NaN   \n",
       "2     NaN  15501063  37.414698            NaN  141.028720          NaN   \n",
       "3     NaN  15501064  37.414697            NaN  141.028720          NaN   \n",
       "4     NaN  15501062  37.414697            NaN  141.028720          NaN   \n",
       "\n",
       "   sensor_id  station_id unit  user_id    value  \n",
       "0        NaN         NaN  cpm        1  20916.0  \n",
       "1        NaN         NaN  cpm        1  20809.0  \n",
       "2        NaN         NaN  cpm        1  20432.0  \n",
       "3        NaN         NaN  cpm        1  20394.0  \n",
       "4        NaN         NaN  cpm        1  20504.0  "
      ]
     },
     "execution_count": 37,
     "metadata": {},
     "output_type": "execute_result"
    }
   ],
   "source": [
    "next(data_iter)"
   ]
  },
  {
   "cell_type": "code",
   "execution_count": 38,
   "metadata": {
    "collapsed": true
   },
   "outputs": [],
   "source": [
    "# Some counts:\n",
    "#   - Total nb. of measurements\n",
    "#   - Nb. of measurements by user_id\n",
    "\n",
    "# Re-initialize iterator\n",
    "data_iter = pd.read_csv(f, chunksize=1000)\n",
    "\n",
    "nb_lines = 0\n",
    "counts_by_user = {}\n",
    "\n",
    "for chunk in data_iter:\n",
    "    nb_lines += len(chunk)  \n",
    "    for entry in chunk['user_id']:\n",
    "        if entry in counts_by_user.keys():\n",
    "            counts_by_user[entry] += 1\n",
    "        else:\n",
    "            counts_by_user[entry] = 1"
   ]
  },
  {
   "cell_type": "code",
   "execution_count": 39,
   "metadata": {
    "collapsed": false
   },
   "outputs": [
    {
     "data": {
      "text/plain": [
       "{1: 17813, 3: 538, 148: 1649}"
      ]
     },
     "execution_count": 39,
     "metadata": {},
     "output_type": "execute_result"
    }
   ],
   "source": [
    "counts_by_user"
   ]
  },
  {
   "cell_type": "markdown",
   "metadata": {},
   "source": [
    "### Exercise"
   ]
  },
  {
   "cell_type": "markdown",
   "metadata": {},
   "source": [
    "Load from Safecast API:\n",
    "\n",
    "* first `1000` measurements\n",
    "* taken between `2011-03-10` and `2017-03-08``\n",
    "* `10km` around `Trieste`\n",
    "\n",
    "**Tip: Use google map to locate longitude and latitue coordinates for Trieste**"
   ]
  }
 ],
 "metadata": {
  "kernelspec": {
   "display_name": "Python 2",
   "language": "python",
   "name": "python2"
  },
  "language_info": {
   "codemirror_mode": {
    "name": "ipython",
    "version": 2
   },
   "file_extension": ".py",
   "mimetype": "text/x-python",
   "name": "python",
   "nbconvert_exporter": "python",
   "pygments_lexer": "ipython2",
   "version": "2.7.11"
  }
 },
 "nbformat": 4,
 "nbformat_minor": 0
}

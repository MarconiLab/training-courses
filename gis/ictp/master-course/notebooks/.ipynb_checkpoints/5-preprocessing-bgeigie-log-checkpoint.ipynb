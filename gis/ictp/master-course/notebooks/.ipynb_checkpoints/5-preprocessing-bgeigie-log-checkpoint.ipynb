{
 "cells": [
  {
   "cell_type": "code",
   "execution_count": 1,
   "metadata": {
    "collapsed": true
   },
   "outputs": [],
   "source": [
    "# This ensures visualizations are plotted inside the notebook\n",
    "#%matplotlib inline\n",
    "\n",
    "import os              # This provides several system utilities\n",
    "import pandas as pd    # This is the workhorse of data munging in Python\n",
    "import matplotlib.pyplot as plt\n",
    "import seaborn as sns  # This allows us to easily and beautifully plot"
   ]
  },
  {
   "cell_type": "code",
   "execution_count": 62,
   "metadata": {
    "collapsed": false
   },
   "outputs": [],
   "source": [
    "f = 'data/29240311.log'    # Path to file containing the table\n",
    "df = pd.read_csv(f, header=None, skiprows=[0, 1, 2])"
   ]
  },
  {
   "cell_type": "code",
   "execution_count": 63,
   "metadata": {
    "collapsed": false
   },
   "outputs": [],
   "source": [
    "df = df[[2, 3, 7, 9]]"
   ]
  },
  {
   "cell_type": "code",
   "execution_count": 64,
   "metadata": {
    "collapsed": false
   },
   "outputs": [],
   "source": [
    "df.columns = ['time', 'cpm', 'lat', 'lon']"
   ]
  },
  {
   "cell_type": "code",
   "execution_count": 65,
   "metadata": {
    "collapsed": false
   },
   "outputs": [
    {
     "data": {
      "text/html": [
       "<div>\n",
       "<table border=\"1\" class=\"dataframe\">\n",
       "  <thead>\n",
       "    <tr style=\"text-align: right;\">\n",
       "      <th></th>\n",
       "      <th>time</th>\n",
       "      <th>cpm</th>\n",
       "      <th>lat</th>\n",
       "      <th>lon</th>\n",
       "    </tr>\n",
       "  </thead>\n",
       "  <tbody>\n",
       "    <tr>\n",
       "      <th>0</th>\n",
       "      <td>2017-03-11T13:20:01Z</td>\n",
       "      <td>24</td>\n",
       "      <td>4542.4271</td>\n",
       "      <td>1342.8265</td>\n",
       "    </tr>\n",
       "    <tr>\n",
       "      <th>1</th>\n",
       "      <td>2017-03-11T13:20:06Z</td>\n",
       "      <td>24</td>\n",
       "      <td>4542.4270</td>\n",
       "      <td>1342.8263</td>\n",
       "    </tr>\n",
       "    <tr>\n",
       "      <th>2</th>\n",
       "      <td>2017-03-11T13:20:11Z</td>\n",
       "      <td>26</td>\n",
       "      <td>4542.4270</td>\n",
       "      <td>1342.8270</td>\n",
       "    </tr>\n",
       "    <tr>\n",
       "      <th>3</th>\n",
       "      <td>2017-03-11T13:20:16Z</td>\n",
       "      <td>29</td>\n",
       "      <td>4542.4271</td>\n",
       "      <td>1342.8273</td>\n",
       "    </tr>\n",
       "    <tr>\n",
       "      <th>4</th>\n",
       "      <td>2017-03-11T13:20:21Z</td>\n",
       "      <td>31</td>\n",
       "      <td>4542.4273</td>\n",
       "      <td>1342.8272</td>\n",
       "    </tr>\n",
       "  </tbody>\n",
       "</table>\n",
       "</div>"
      ],
      "text/plain": [
       "                   time  cpm        lat        lon\n",
       "0  2017-03-11T13:20:01Z   24  4542.4271  1342.8265\n",
       "1  2017-03-11T13:20:06Z   24  4542.4270  1342.8263\n",
       "2  2017-03-11T13:20:11Z   26  4542.4270  1342.8270\n",
       "3  2017-03-11T13:20:16Z   29  4542.4271  1342.8273\n",
       "4  2017-03-11T13:20:21Z   31  4542.4273  1342.8272"
      ]
     },
     "execution_count": 65,
     "metadata": {},
     "output_type": "execute_result"
    }
   ],
   "source": [
    "df.head()"
   ]
  },
  {
   "cell_type": "code",
   "execution_count": 71,
   "metadata": {
    "collapsed": false
   },
   "outputs": [],
   "source": [
    "# http://www.directionsmag.com/site/latlong-converter/\n",
    "def to_decimal_degree(coord):\n",
    "    degree = int(coord/100)\n",
    "    decimal_min = coord - degree*100\n",
    "    return degree + decimal_min/60"
   ]
  },
  {
   "cell_type": "code",
   "execution_count": 70,
   "metadata": {
    "collapsed": false
   },
   "outputs": [],
   "source": [
    "df.lat = df.apply(lambda z: to_decimal_degree(z.lat), axis=1)\n",
    "df.lon = df.apply(lambda z: to_decimal_degree(z.lon), axis=1)"
   ]
  },
  {
   "cell_type": "code",
   "execution_count": 72,
   "metadata": {
    "collapsed": false
   },
   "outputs": [
    {
     "data": {
      "text/html": [
       "<div>\n",
       "<table border=\"1\" class=\"dataframe\">\n",
       "  <thead>\n",
       "    <tr style=\"text-align: right;\">\n",
       "      <th></th>\n",
       "      <th>time</th>\n",
       "      <th>cpm</th>\n",
       "      <th>lat</th>\n",
       "      <th>lon</th>\n",
       "    </tr>\n",
       "  </thead>\n",
       "  <tbody>\n",
       "    <tr>\n",
       "      <th>0</th>\n",
       "      <td>2017-03-11T13:20:01Z</td>\n",
       "      <td>24</td>\n",
       "      <td>0.761785</td>\n",
       "      <td>0.228563</td>\n",
       "    </tr>\n",
       "    <tr>\n",
       "      <th>1</th>\n",
       "      <td>2017-03-11T13:20:06Z</td>\n",
       "      <td>24</td>\n",
       "      <td>0.761785</td>\n",
       "      <td>0.228563</td>\n",
       "    </tr>\n",
       "    <tr>\n",
       "      <th>2</th>\n",
       "      <td>2017-03-11T13:20:11Z</td>\n",
       "      <td>26</td>\n",
       "      <td>0.761785</td>\n",
       "      <td>0.228563</td>\n",
       "    </tr>\n",
       "    <tr>\n",
       "      <th>3</th>\n",
       "      <td>2017-03-11T13:20:16Z</td>\n",
       "      <td>29</td>\n",
       "      <td>0.761785</td>\n",
       "      <td>0.228563</td>\n",
       "    </tr>\n",
       "    <tr>\n",
       "      <th>4</th>\n",
       "      <td>2017-03-11T13:20:21Z</td>\n",
       "      <td>31</td>\n",
       "      <td>0.761785</td>\n",
       "      <td>0.228563</td>\n",
       "    </tr>\n",
       "  </tbody>\n",
       "</table>\n",
       "</div>"
      ],
      "text/plain": [
       "                   time  cpm       lat       lon\n",
       "0  2017-03-11T13:20:01Z   24  0.761785  0.228563\n",
       "1  2017-03-11T13:20:06Z   24  0.761785  0.228563\n",
       "2  2017-03-11T13:20:11Z   26  0.761785  0.228563\n",
       "3  2017-03-11T13:20:16Z   29  0.761785  0.228563\n",
       "4  2017-03-11T13:20:21Z   31  0.761785  0.228563"
      ]
     },
     "execution_count": 72,
     "metadata": {},
     "output_type": "execute_result"
    }
   ],
   "source": [
    "df.head()"
   ]
  },
  {
   "cell_type": "code",
   "execution_count": null,
   "metadata": {
    "collapsed": true
   },
   "outputs": [],
   "source": []
  }
 ],
 "metadata": {
  "anaconda-cloud": {},
  "kernelspec": {
   "display_name": "Python [conda env:ictp1]",
   "language": "python",
   "name": "conda-env-ictp1-py"
  },
  "language_info": {
   "codemirror_mode": {
    "name": "ipython",
    "version": 2
   },
   "file_extension": ".py",
   "mimetype": "text/x-python",
   "name": "python",
   "nbconvert_exporter": "python",
   "pygments_lexer": "ipython2",
   "version": "2.7.13"
  }
 },
 "nbformat": 4,
 "nbformat_minor": 2
}
